{
 "cells": [
  {
   "cell_type": "code",
   "execution_count": 2,
   "metadata": {},
   "outputs": [
    {
     "name": "stdout",
     "output_type": "stream",
     "text": [
      "Variables and their shapes:\n",
      "observations: (64, 64, 13)\n",
      "earth_incidence_angle: (64, 64, 13)\n"
     ]
    }
   ],
   "source": [
    "from netCDF4 import Dataset\n",
    "\n",
    "file_path = r'F:\\Academics\\Research_paper\\Programs\\Data\\spr\\gmi\\training\\on_swath\\spatial\\gmi\\gmi_20191231233013.nc'\n",
    "\n",
    "# Open the NetCDF file\n",
    "db = Dataset(file_path, 'r')\n",
    "\n",
    "# Get all variable keys\n",
    "var_keys = db.variables.keys()\n",
    "\n",
    "print(\"Variables and their shapes:\")\n",
    "for var_key in var_keys:\n",
    "    var = db.variables[var_key]  # Access the variable\n",
    "    print(f\"{var_key}: {var.shape}\")  # Print the variable name and shape\n",
    "\n",
    "# Close the NetCDF file\n",
    "db.close()\n"
   ]
  }
 ],
 "metadata": {
  "kernelspec": {
   "display_name": "satenv",
   "language": "python",
   "name": "python3"
  },
  "language_info": {
   "codemirror_mode": {
    "name": "ipython",
    "version": 3
   },
   "file_extension": ".py",
   "mimetype": "text/x-python",
   "name": "python",
   "nbconvert_exporter": "python",
   "pygments_lexer": "ipython3",
   "version": "3.12.4"
  }
 },
 "nbformat": 4,
 "nbformat_minor": 2
}
